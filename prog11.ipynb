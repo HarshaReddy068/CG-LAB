{
 "cells": [
  {
   "cell_type": "code",
   "execution_count": null,
   "metadata": {},
   "outputs": [],
   "source": [
    "import cv2\n",
    "import numpy as np\n",
    "import matplotlib.pyplot as plt\n",
    "\n",
    "image = cv2.imread('shape.jpg')\n",
    "\n",
    "\n",
    "gray = cv2.cvtColor(image, cv2.COLOR_BGR2GRAY)\n",
    "\n",
    "# Perform Canny edge detection\n",
    "edged = cv2.Canny(gray, 30, 200)\n",
    "\n",
    "# Finding Contours\n",
    "contours, hierarchy = cv2.findContours(edged.copy(), cv2.RETR_EXTERNAL, cv2.CHAIN_APPROX_SIMPLE)\n",
    "print(\"Number of Contours found = \" + str(len(contours)))\n",
    "\n",
    "# Draw all contours on the original image\n",
    "cv2.drawContours(image, contours, -1, (0, 255, 0), 3)\n",
    "\n",
    "# Create a list to store cropped images of each object\n",
    "cropped_images = []\n",
    "\n",
    "# Iterate through contours\n",
    "for i, contour in enumerate(contours):\n",
    "    # Create a mask image for each contour\n",
    "    mask = np.zeros_like(gray)\n",
    "    cv2.drawContours(mask, [contour], 0, 255, -1)\n",
    "    # Extract the object using the mask\n",
    "    object_extracted = np.zeros_like(image)\n",
    "    object_extracted[mask == 255] = image[mask == 255]\n",
    "    # Convert BGR to RGB for displaying with Matplotlib\n",
    "    object_extracted_rgb = cv2.cvtColor(object_extracted, cv2.COLOR_BGR2RGB)\n",
    "    # Append the extracted object to the list\n",
    "    cropped_images.append(object_extracted_rgb)\n",
    "    \n",
    "fig, axs = plt.subplots(1, len(cropped_images)+2, figsize=(12, 4))\n",
    "\n",
    "# Plot the original image\n",
    "axs[0].imshow(cv2.cvtColor(image, cv2.COLOR_BGR2RGB))\n",
    "axs[0].set_title('Original Image')\n",
    "axs[0].axis('off')\n",
    "\n",
    "axs[1].imshow(edged, cmap='gray')\n",
    "axs[1].set_title('Canny Edges')\n",
    "axs[1].axis('off')\n",
    "\n",
    "for i in range(len(cropped_images)):\n",
    "    axs[i+2].imshow(cropped_images[i])\n",
    "    axs[i+2].set_title(f'Object {i+1}')\n",
    "    axs[i+2].axis('off')\n",
    "\n",
    "plt.tight_layout()\n",
    "plt.show()\n"
   ]
  }
 ],
 "metadata": {
  "kernelspec": {
   "display_name": "Python 3",
   "language": "python",
   "name": "python3"
  },
  "language_info": {
   "codemirror_mode": {
    "name": "ipython",
    "version": 3
   },
   "file_extension": ".py",
   "mimetype": "text/x-python",
   "name": "python",
   "nbconvert_exporter": "python",
   "pygments_lexer": "ipython3",
   "version": "3.10.11"
  }
 },
 "nbformat": 4,
 "nbformat_minor": 2
}
